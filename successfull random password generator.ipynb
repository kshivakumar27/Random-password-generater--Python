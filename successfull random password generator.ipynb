{
 "cells": [
  {
   "cell_type": "code",
   "execution_count": null,
   "metadata": {},
   "outputs": [
    {
     "name": "stdout",
     "output_type": "stream",
     "text": [
      "What is your name? anirudh\n",
      "anirudh would you like to generate a random password? y\n",
      "%561S33`og^2\n"
     ]
    }
   ],
   "source": [
    "import random\n",
    "import string\n",
    "from typing import Set\n",
    "\n",
    "\n",
    "def generate_passwords(*,\n",
    "                       min_length: int = 8,\n",
    "                       max_length: int = 16,\n",
    "                       password_characters: str = (string.ascii_letters\n",
    "                                                   + string.digits\n",
    "                                                   + string.punctuation)\n",
    "                       ) -> None:\n",
    "    username = ask_name()\n",
    "\n",
    "    question = f'{username} would you like to generate a random password? '\n",
    "    while True:\n",
    "        if user_wants_password(question):\n",
    "            password_length = random.randint(min_length, max_length)\n",
    "            password = ''.join(random.choice(password_characters)\n",
    "                               for _ in range(password_length))\n",
    "            print(password)\n",
    "\n",
    "            question = 'Would you like to generate another random password? '\n",
    "            continue\n",
    "\n",
    "        print('Good bye!')\n",
    "        return\n",
    "    \n",
    "def ask_name() -> str:\n",
    "    while True:\n",
    "        username = input('What is your name? ')\n",
    "        if username.isalpha():\n",
    "            return username\n",
    "        print('Not a valid response! Try again.')\n",
    "\n",
    "\n",
    "def user_wants_password(question: str,\n",
    "                        *,\n",
    "                        yes_options: Set[str] = {'Yes', 'yes', 'Y', 'y'},\n",
    "                        no_options: Set[str] = {'No', 'no', 'N', 'n'}) -> bool:\n",
    "    while True:\n",
    "        response = input(question)\n",
    "        if response in yes_options:\n",
    "            return True\n",
    "        elif response in no_options:\n",
    "            return False\n",
    "        else:\n",
    "            print('Not a valid response! Try again.')\n",
    "\n",
    "\n",
    "if __name__ == '__main__':\n",
    "    generate_passwords()"
   ]
  },
  {
   "cell_type": "code",
   "execution_count": null,
   "metadata": {},
   "outputs": [],
   "source": []
  }
 ],
 "metadata": {
  "kernelspec": {
   "display_name": "Python 3",
   "language": "python",
   "name": "python3"
  },
  "language_info": {
   "codemirror_mode": {
    "name": "ipython",
    "version": 3
   },
   "file_extension": ".py",
   "mimetype": "text/x-python",
   "name": "python",
   "nbconvert_exporter": "python",
   "pygments_lexer": "ipython3",
   "version": "3.7.5"
  }
 },
 "nbformat": 4,
 "nbformat_minor": 2
}
